{
 "cells": [
  {
   "cell_type": "markdown",
   "id": "faa4243f-25d0-44e3-ba78-669c49ca857f",
   "metadata": {},
   "source": [
    "#### Classification using a Logistic Model"
   ]
  },
  {
   "cell_type": "code",
   "execution_count": 1,
   "id": "e98ad5a4-4c6d-489a-b353-5beb13c094e4",
   "metadata": {},
   "outputs": [],
   "source": [
    "import numpy as np\n",
    "import pandas as pd\n",
    "\n",
    "from scipy.io import loadmat\n",
    "from sklearn.preprocessing import MinMaxScaler\n",
    "from sklearn.model_selection import train_test_split\n",
    "from sklearn.metrics import accuracy_score"
   ]
  },
  {
   "cell_type": "markdown",
   "id": "0cbd11d3-9cba-4da1-92ce-64df7f6197f4",
   "metadata": {},
   "source": [
    "#### Data Loading and Transformation"
   ]
  },
  {
   "cell_type": "code",
   "execution_count": 2,
   "id": "db5b608c-46e3-4785-9b42-baa281dcfdea",
   "metadata": {},
   "outputs": [],
   "source": [
    "eeg = loadmat('WLDataAll.mat')"
   ]
  },
  {
   "cell_type": "code",
   "execution_count": 3,
   "id": "826c66a0-8b7a-475f-a5cd-371cd5ca5068",
   "metadata": {},
   "outputs": [],
   "source": [
    "data = eeg['data']\n",
    "labels = eeg['label']"
   ]
  },
  {
   "cell_type": "code",
   "execution_count": 4,
   "id": "68740b65-2be0-4969-9c96-d73efb5c31a7",
   "metadata": {},
   "outputs": [
    {
     "data": {
      "text/plain": [
       "array([[[ 4.8829541e+00,  9.8011837e+00, -6.1279667e+01, ...,\n",
       "         -2.3868773e+01,  1.0183847e+01,  6.5834889e+00],\n",
       "        [ 1.5645766e+01,  9.2562323e+00, -5.9352314e+01, ...,\n",
       "          6.3903937e+00, -3.4080923e-01,  7.2190175e+00],\n",
       "        [ 1.8576738e+01,  9.6379747e+00, -5.8535995e+01, ...,\n",
       "          3.4576672e+01, -3.2299006e+00,  4.3821239e-01],\n",
       "        ...,\n",
       "        [ 1.3261520e+01, -4.5882652e+01,  1.3235929e+01, ...,\n",
       "          1.9744860e+01, -1.1103893e+01,  5.8311663e+00],\n",
       "        [ 1.2880102e+01, -5.4907242e+01,  1.1796134e+01, ...,\n",
       "          2.2629681e+01, -7.8801956e+00,  9.1314917e+00],\n",
       "        [ 1.1365375e+01, -6.0526150e+01,  8.0718441e+00, ...,\n",
       "          1.9972019e+01, -9.1800272e-02,  2.4537776e+00]],\n",
       "\n",
       "       [[ 6.2141876e+00,  2.3298359e+01, -4.9112263e+01, ...,\n",
       "         -2.7136732e+01,  1.3108792e+01, -1.0402801e-02],\n",
       "        [ 2.0816244e+01,  2.2637253e+01, -4.7099533e+01, ...,\n",
       "          2.6988206e+00,  1.7181083e+00,  4.6453357e-01],\n",
       "        [ 2.5134890e+01,  2.2752033e+01, -4.6335308e+01, ...,\n",
       "          3.0565788e+01, -2.0004427e+00, -5.3312268e+00],\n",
       "        ...,\n",
       "        [ 2.5610659e+01, -3.6884819e+01,  9.5531950e+00, ...,\n",
       "          2.1718262e+01, -1.5028214e+01, -1.4782733e+00],\n",
       "        [ 2.6118378e+01, -4.4797615e+01,  8.6757174e+00, ...,\n",
       "          2.5414093e+01, -1.1935817e+01,  1.6412252e+00],\n",
       "        [ 2.4887039e+01, -4.9106499e+01,  5.2992163e+00, ...,\n",
       "          2.3196951e+01, -5.4231153e+00, -2.0184553e+00]]], dtype=float32)"
      ]
     },
     "execution_count": 4,
     "metadata": {},
     "output_type": "execute_result"
    }
   ],
   "source": [
    "data[:2]"
   ]
  },
  {
   "cell_type": "code",
   "execution_count": 5,
   "id": "fad86587-3a34-4572-97b9-ca74b0f30de8",
   "metadata": {},
   "outputs": [
    {
     "data": {
      "text/plain": [
       "array([[1, 1, 1, 1, 1, 1, 1, 1, 1, 1, 1, 1, 1, 1, 1, 1, 1, 1, 1, 1, 1, 1,\n",
       "        1, 1, 1, 1, 1, 1, 1, 1, 1, 1, 1, 1, 1, 1, 1, 1, 1, 1, 1, 1, 1, 1,\n",
       "        1, 1, 1, 1, 1, 1, 1, 1, 1, 1, 1, 1, 1, 1, 1, 1, 2, 2, 2, 2, 2, 2,\n",
       "        2, 2, 2, 2, 2, 2, 2, 2, 2, 2, 2, 2, 2, 2, 2, 2, 2, 2, 2, 2, 2, 2,\n",
       "        2, 2, 2, 2, 2, 2, 2, 2, 2, 2, 2, 2, 2, 2, 2, 2, 2, 2, 2, 2, 2, 2,\n",
       "        2, 2, 2, 2, 2, 2, 2, 2, 2, 2, 1, 1, 1, 1, 1, 1, 1, 1, 1, 1, 1, 1,\n",
       "        1, 1, 1, 1, 1, 1, 1, 1, 1, 1, 1, 1, 1, 1, 1, 1, 1, 1, 1, 1, 1, 1,\n",
       "        1, 1, 1, 1, 1, 1, 1, 1, 1, 1, 1, 1, 1, 1, 1, 1, 1, 1, 1, 1, 1, 1,\n",
       "        1, 1, 1, 1, 2, 2, 2, 2, 2, 2, 2, 2, 2, 2, 2, 2, 2, 2, 2, 2, 2, 2,\n",
       "        2, 2, 2, 2, 2, 2, 2, 2, 2, 2, 2, 2, 2, 2, 2, 2, 2, 2, 2, 2, 2, 2,\n",
       "        2, 2, 2, 2, 2, 2, 2, 2, 2, 2, 2, 2, 2, 2, 2, 2, 2, 2, 2, 2, 1, 1,\n",
       "        1, 1, 1, 1, 1, 1, 1, 1, 1, 1, 1, 1, 1, 1, 1, 1, 1, 1, 1, 1, 1, 1,\n",
       "        1, 1, 1, 1, 1, 1, 1, 1, 1, 1, 1, 1, 1, 1, 1, 1, 1, 1, 1, 1, 1, 1,\n",
       "        1, 1, 1, 1, 1, 1, 1, 1, 1, 1, 1, 1, 1, 1, 2, 2, 2, 2, 2, 2, 2, 2,\n",
       "        2, 2, 2, 2, 2, 2, 2, 2, 2, 2, 2, 2, 2, 2, 2, 2, 2, 2, 2, 2, 2, 2,\n",
       "        2, 2, 2, 2, 2, 2, 2, 2, 2, 2, 2, 2, 2, 2, 2, 2, 2, 2, 2, 2, 2, 2,\n",
       "        2, 2, 2, 2, 2, 2, 2, 2]], dtype=uint8)"
      ]
     },
     "execution_count": 5,
     "metadata": {},
     "output_type": "execute_result"
    }
   ],
   "source": [
    "labels[:2]"
   ]
  },
  {
   "cell_type": "code",
   "execution_count": 6,
   "id": "eae8c08f-b12d-4d3f-abdc-655b45008448",
   "metadata": {},
   "outputs": [
    {
     "name": "stdout",
     "output_type": "stream",
     "text": [
      "(62, 512, 360)\n",
      "(1, 360)\n"
     ]
    }
   ],
   "source": [
    "labels[labels == 1] = 0\n",
    "labels[labels == 2] = 1\n",
    "\n",
    "print(data.shape)\n",
    "print(labels.shape)"
   ]
  },
  {
   "cell_type": "code",
   "execution_count": 9,
   "id": "dc8f8b69-017c-4302-bc16-4c305e844c04",
   "metadata": {},
   "outputs": [
    {
     "data": {
      "text/plain": [
       "(31744, 360)"
      ]
     },
     "execution_count": 9,
     "metadata": {},
     "output_type": "execute_result"
    }
   ],
   "source": [
    "rawdata = np.copy(data)\n",
    "data = rawdata.reshape(-1, rawdata.shape[-1])\n",
    "data.shape"
   ]
  },
  {
   "cell_type": "markdown",
   "id": "bcddc33f-9ae2-4256-b32e-a1f5faa98ee6",
   "metadata": {},
   "source": [
    "##### Checking if there are any nan values in the dataset"
   ]
  },
  {
   "cell_type": "code",
   "execution_count": 10,
   "id": "c1cba053-db6c-4feb-8b27-645c70fdd917",
   "metadata": {},
   "outputs": [
    {
     "data": {
      "text/plain": [
       "0"
      ]
     },
     "execution_count": 10,
     "metadata": {},
     "output_type": "execute_result"
    }
   ],
   "source": [
    "np.isnan(data).sum()"
   ]
  },
  {
   "cell_type": "markdown",
   "id": "34660958-c7e5-4714-88a9-9e1ff0893c62",
   "metadata": {},
   "source": [
    "##### Shuffling the dataset using index"
   ]
  },
  {
   "cell_type": "code",
   "execution_count": 11,
   "id": "1ef323c6-2f21-4fe8-ab0a-b637aedec9a6",
   "metadata": {},
   "outputs": [
    {
     "name": "stdout",
     "output_type": "stream",
     "text": [
      "(31744, 360)\n",
      "(1, 360)\n"
     ]
    }
   ],
   "source": [
    "idx = np.random.permutation(data.shape[1])\n",
    "X,y = data[:, idx], labels[:, idx]\n",
    "\n",
    "print(X.shape)\n",
    "print(y.shape)"
   ]
  },
  {
   "cell_type": "markdown",
   "id": "3a0d1b78-3dae-4345-b33d-e7db2cebfda1",
   "metadata": {},
   "source": [
    "##### Log transformation is required to handle negative values in the data and to compute cost function with errors"
   ]
  },
  {
   "cell_type": "code",
   "execution_count": 17,
   "id": "f0ae166c-e0cc-4ed1-8a19-505f89d9e2f0",
   "metadata": {},
   "outputs": [],
   "source": [
    "minimumvalue = np.amin(data)\n",
    "data = data+ abs(minimumvalue) + 1"
   ]
  },
  {
   "cell_type": "markdown",
   "id": "a168143c-5e79-46d5-b2f6-1bb278b84af2",
   "metadata": {},
   "source": [
    "##### Splitting the data into train and test set and consequently scaling them"
   ]
  },
  {
   "cell_type": "code",
   "execution_count": 12,
   "id": "fd17bf53-182b-45ea-94c2-6fda15f669c2",
   "metadata": {},
   "outputs": [
    {
     "name": "stdout",
     "output_type": "stream",
     "text": [
      "(31744, 288)\n",
      "(1, 288)\n",
      "(31744, 72)\n",
      "(1, 72)\n"
     ]
    }
   ],
   "source": [
    "X_train = data[:,:288]\n",
    "y_train = labels[:,:288]\n",
    "X_test = data[:,288:]\n",
    "y_test = labels[:,288:]\n",
    "\n",
    "print(X_train.shape)\n",
    "print(y_train.shape)\n",
    "print(X_test.shape)\n",
    "print(y_test.shape)\n",
    "\n",
    "scaler = MinMaxScaler()\n",
    "X_train = scaler.fit_transform(X_train.T).T\n",
    "X_test = scaler.transform(X_test.T).T\n",
    "\n",
    "X_train = X_train.astype('float32')\n",
    "X_test = X_test.astype('float32')"
   ]
  },
  {
   "cell_type": "markdown",
   "id": "17844710-d982-4c28-b62f-3f49b1a54227",
   "metadata": {},
   "source": [
    "##### Creating a Logistic Model"
   ]
  },
  {
   "cell_type": "code",
   "execution_count": 18,
   "id": "7f6276a3-9ed0-4053-adbc-01302a7ee47e",
   "metadata": {},
   "outputs": [],
   "source": [
    "def sigmoid(z):\n",
    "    #Compute the sigmoid of z. z is a scalar or numpy array of any size\n",
    "    s = 1/(1 + np.exp(-z))\n",
    "    return s\n",
    "\n",
    "def initialize_random_weights(m):\n",
    "    w = np.random.rand(m).reshape(m,1)\n",
    "    b = 0\n",
    "    return w, b\n",
    "\n",
    "def initialize_with_zeros(m): \n",
    "    w = np.zeros((m, 1))\n",
    "    b = 0\n",
    "    return w, b\n",
    "\n",
    "def optimize(w, b, X, Y): \n",
    "    m = X.shape[1]\n",
    "\n",
    "    # FORWARD PROPAGATION (FROM X TO COST)\n",
    "    A = sigmoid(np.dot(w.T, X)+ b) # compute activation\n",
    "    cost = -(1/m)*(np.sum((Y*np.log(A)) + (1-Y) *np.log(1-A)))\n",
    "\n",
    "    # BACKWARD PROPAGATION (TO FIND GRAD)\n",
    "    dw = (1/m)* np.dot(X, ((A-Y).T))\n",
    "    db = (1/m) * np.sum(A-Y)\n",
    "    gradient = {'dw': dw, 'db': db}\n",
    "\n",
    "    return gradient, cost\n",
    "\n",
    "def optimizer(w, b, X, Y, learning_rate, no_iterations, print_cost):\n",
    "    costs = []\n",
    "    for i in range(no_iterations):\n",
    "        grads, cost = optimize(w,b,X,Y)\n",
    "        dw = grads[\"dw\"]\n",
    "        db = grads[\"db\"]\n",
    "        \n",
    "        #weight update\n",
    "        w = w - (learning_rate * dw)\n",
    "        b = b - (learning_rate * db)\n",
    "        \n",
    "        if (i % 100 == 0):\n",
    "            costs.append(cost)\n",
    "            if(print_cost):\n",
    "                print(\"Cost after %i iteration is %f\" %(i, cost))\n",
    "    \n",
    "    #final parameters\n",
    "    coeff = {\"w\": w, \"b\": b}\n",
    "    gradient = {\"dw\": dw, \"db\": db}\n",
    "    return coeff, gradient, costs\n",
    "\n",
    "def predict(w, b, X):\n",
    "    m = X.shape[1]\n",
    "    Y_prediction = np.zeros((1,m))\n",
    "    w = w.reshape(X.shape[0], 1)\n",
    "\n",
    "    A = sigmoid(np.dot(w.T, X) + b)\n",
    "\n",
    "    for i in range(A.shape[1]):\n",
    "        # Convert probabilities A[0,i] to actual predictions p[0,i]\n",
    "        Y_prediction[0,i] = 1 if A[0, i] > 0.5 else 0\n",
    "    pass\n",
    "\n",
    "    return Y_prediction\n",
    "\n",
    "def model(X_train, Y_train, X_test, Y_test, learning_rate = 0.5, num_iterations = 2000, print_cost = False):\n",
    "    w, b = initialize_random_weights(X_train.shape[0])\n",
    "    \n",
    "    # Gradient descent\n",
    "    coeff, gradient, costs = optimizer(w, b, X_train, Y_train, learning_rate, num_iterations, print_cost)\n",
    "\n",
    "    # Retrieve parameters w and b from dictionary “parameters”\n",
    "    w = coeff['w']\n",
    "    b = coeff['b']\n",
    "\n",
    "    # Predict test/train set examples\n",
    "    Y_prediction_test = predict(w, b, X_test)\n",
    "    Y_prediction_train = predict(w, b, X_train)\n",
    "    # Print train/test Errors\n",
    "    print('train accuracy: {} %'.format(100 - np.mean(np.abs(Y_prediction_train - Y_train)) * 100))\n",
    "    print('test accuracy: {} %'.format(100 - np.mean(np.abs(Y_prediction_test - Y_test)) * 100))\n",
    "    params = {'costs': costs,\n",
    "    'Y_prediction_test': Y_prediction_test, \n",
    "    'Y_prediction_train' : Y_prediction_train, \n",
    "    'w' : w, \n",
    "    'b' : b,\n",
    "    'learning_rate' : learning_rate,\n",
    "    'num_iterations': num_iterations}\n",
    "\n",
    "    return params"
   ]
  },
  {
   "cell_type": "code",
   "execution_count": 19,
   "id": "1abab791-fd5d-481b-8e62-88a81f7f94b9",
   "metadata": {},
   "outputs": [
    {
     "name": "stderr",
     "output_type": "stream",
     "text": [
      "<ipython-input-18-98edca334916>:21: RuntimeWarning: divide by zero encountered in log\n",
      "  cost = -(1/m)*(np.sum((Y*np.log(A)) + (1-Y) *np.log(1-A)))\n",
      "<ipython-input-18-98edca334916>:21: RuntimeWarning: invalid value encountered in multiply\n",
      "  cost = -(1/m)*(np.sum((Y*np.log(A)) + (1-Y) *np.log(1-A)))\n",
      "<ipython-input-18-98edca334916>:3: RuntimeWarning: overflow encountered in exp\n",
      "  s = 1/(1 + np.exp(-z))\n"
     ]
    },
    {
     "name": "stdout",
     "output_type": "stream",
     "text": [
      "train accuracy: 68.40277777777777 %\n",
      "test accuracy: 68.05555555555556 %\n"
     ]
    }
   ],
   "source": [
    "parameters = model(X_train, y_train, X_test, y_test)"
   ]
  },
  {
   "cell_type": "code",
   "execution_count": 20,
   "id": "55d4d1df-a7d5-4d42-9490-b63e170a20aa",
   "metadata": {},
   "outputs": [
    {
     "name": "stdout",
     "output_type": "stream",
     "text": [
      "[[1. 1. 1. 1. 1. 1. 1. 1. 1. 1. 1. 0. 1. 1. 1. 1. 1. 1. 1. 1. 1. 1. 1. 1.\n",
      "  1. 1. 1. 1. 1. 1. 1. 1. 0. 0. 1. 1. 1. 1. 1. 1. 1. 1. 1. 0. 1. 1. 1. 1.\n",
      "  0. 1. 1. 1. 1. 1. 1. 0. 0. 1. 0. 1. 0. 0. 0. 1. 1. 0. 1. 1. 0. 1. 1. 1.]]\n"
     ]
    }
   ],
   "source": [
    "preds = parameters['Y_prediction_test']\n",
    "print(preds)"
   ]
  },
  {
   "cell_type": "code",
   "execution_count": 21,
   "id": "1a12d421-d949-4386-ba5d-ea2409ae01b3",
   "metadata": {},
   "outputs": [
    {
     "name": "stdout",
     "output_type": "stream",
     "text": [
      "Test Accuracy 68.05555555555556 %\n"
     ]
    }
   ],
   "source": [
    "print('Test Accuracy {} %'.format(accuracy_score(preds[0,:], y_test[0,:])*100))"
   ]
  }
 ],
 "metadata": {
  "kernelspec": {
   "display_name": "Python 3",
   "language": "python",
   "name": "python3"
  },
  "language_info": {
   "codemirror_mode": {
    "name": "ipython",
    "version": 3
   },
   "file_extension": ".py",
   "mimetype": "text/x-python",
   "name": "python",
   "nbconvert_exporter": "python",
   "pygments_lexer": "ipython3",
   "version": "3.8.8"
  }
 },
 "nbformat": 4,
 "nbformat_minor": 5
}
