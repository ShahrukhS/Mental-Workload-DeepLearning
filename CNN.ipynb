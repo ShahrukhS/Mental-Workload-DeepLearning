{
  "nbformat": 4,
  "nbformat_minor": 5,
  "metadata": {
    "kernelspec": {
      "display_name": "Python 3",
      "language": "python",
      "name": "python3"
    },
    "language_info": {
      "codemirror_mode": {
        "name": "ipython",
        "version": 3
      },
      "file_extension": ".py",
      "mimetype": "text/x-python",
      "name": "python",
      "nbconvert_exporter": "python",
      "pygments_lexer": "ipython3",
      "version": "3.8.8"
    },
    "colab": {
      "name": "Assignment_Pt_2_1.ipynb",
      "provenance": [],
      "collapsed_sections": []
    },
    "accelerator": "GPU"
  },
  "cells": [
    {
      "cell_type": "code",
      "metadata": {
        "colab": {
          "base_uri": "https://localhost:8080/"
        },
        "id": "TcZtzXAjKTeT",
        "outputId": "9c821f09-0f8e-41ac-a90d-87588f004cc1"
      },
      "source": [
        "from google.colab import drive\n",
        "drive.mount('/content/drive/')"
      ],
      "id": "TcZtzXAjKTeT",
      "execution_count": 52,
      "outputs": [
        {
          "output_type": "stream",
          "text": [
            "Drive already mounted at /content/drive/; to attempt to forcibly remount, call drive.mount(\"/content/drive/\", force_remount=True).\n"
          ],
          "name": "stdout"
        }
      ]
    },
    {
      "cell_type": "code",
      "metadata": {
        "colab": {
          "base_uri": "https://localhost:8080/"
        },
        "id": "57e77369-7dc5-4229-a430-4205a7570e26",
        "outputId": "ab6d5c45-2a68-497c-eae1-82c36e97085c"
      },
      "source": [
        "!pip install keras;"
      ],
      "id": "57e77369-7dc5-4229-a430-4205a7570e26",
      "execution_count": 53,
      "outputs": [
        {
          "output_type": "stream",
          "text": [
            "Requirement already satisfied: keras in /usr/local/lib/python3.7/dist-packages (2.6.0)\n"
          ],
          "name": "stdout"
        }
      ]
    },
    {
      "cell_type": "code",
      "metadata": {
        "colab": {
          "base_uri": "https://localhost:8080/"
        },
        "id": "401bb117-a1c3-4458-a80c-451077e1d7df",
        "outputId": "a954cb25-6402-41c9-c012-e850235717df"
      },
      "source": [
        "!pip install tensorflow;"
      ],
      "id": "401bb117-a1c3-4458-a80c-451077e1d7df",
      "execution_count": 54,
      "outputs": [
        {
          "output_type": "stream",
          "text": [
            "Requirement already satisfied: tensorflow in /usr/local/lib/python3.7/dist-packages (2.6.0)\n",
            "Requirement already satisfied: wheel~=0.35 in /usr/local/lib/python3.7/dist-packages (from tensorflow) (0.37.0)\n",
            "Requirement already satisfied: keras~=2.6 in /usr/local/lib/python3.7/dist-packages (from tensorflow) (2.6.0)\n",
            "Requirement already satisfied: keras-preprocessing~=1.1.2 in /usr/local/lib/python3.7/dist-packages (from tensorflow) (1.1.2)\n",
            "Requirement already satisfied: tensorboard~=2.6 in /usr/local/lib/python3.7/dist-packages (from tensorflow) (2.6.0)\n",
            "Requirement already satisfied: clang~=5.0 in /usr/local/lib/python3.7/dist-packages (from tensorflow) (5.0)\n",
            "Requirement already satisfied: opt-einsum~=3.3.0 in /usr/local/lib/python3.7/dist-packages (from tensorflow) (3.3.0)\n",
            "Requirement already satisfied: six~=1.15.0 in /usr/local/lib/python3.7/dist-packages (from tensorflow) (1.15.0)\n",
            "Requirement already satisfied: protobuf>=3.9.2 in /usr/local/lib/python3.7/dist-packages (from tensorflow) (3.17.3)\n",
            "Requirement already satisfied: termcolor~=1.1.0 in /usr/local/lib/python3.7/dist-packages (from tensorflow) (1.1.0)\n",
            "Requirement already satisfied: typing-extensions~=3.7.4 in /usr/local/lib/python3.7/dist-packages (from tensorflow) (3.7.4.3)\n",
            "Requirement already satisfied: absl-py~=0.10 in /usr/local/lib/python3.7/dist-packages (from tensorflow) (0.12.0)\n",
            "Requirement already satisfied: h5py~=3.1.0 in /usr/local/lib/python3.7/dist-packages (from tensorflow) (3.1.0)\n",
            "Requirement already satisfied: gast==0.4.0 in /usr/local/lib/python3.7/dist-packages (from tensorflow) (0.4.0)\n",
            "Requirement already satisfied: grpcio<2.0,>=1.37.0 in /usr/local/lib/python3.7/dist-packages (from tensorflow) (1.39.0)\n",
            "Requirement already satisfied: wrapt~=1.12.1 in /usr/local/lib/python3.7/dist-packages (from tensorflow) (1.12.1)\n",
            "Requirement already satisfied: google-pasta~=0.2 in /usr/local/lib/python3.7/dist-packages (from tensorflow) (0.2.0)\n",
            "Requirement already satisfied: flatbuffers~=1.12.0 in /usr/local/lib/python3.7/dist-packages (from tensorflow) (1.12)\n",
            "Requirement already satisfied: astunparse~=1.6.3 in /usr/local/lib/python3.7/dist-packages (from tensorflow) (1.6.3)\n",
            "Requirement already satisfied: numpy~=1.19.2 in /usr/local/lib/python3.7/dist-packages (from tensorflow) (1.19.5)\n",
            "Requirement already satisfied: tensorflow-estimator~=2.6 in /usr/local/lib/python3.7/dist-packages (from tensorflow) (2.6.0)\n",
            "Requirement already satisfied: cached-property in /usr/local/lib/python3.7/dist-packages (from h5py~=3.1.0->tensorflow) (1.5.2)\n",
            "Requirement already satisfied: google-auth-oauthlib<0.5,>=0.4.1 in /usr/local/lib/python3.7/dist-packages (from tensorboard~=2.6->tensorflow) (0.4.5)\n",
            "Requirement already satisfied: markdown>=2.6.8 in /usr/local/lib/python3.7/dist-packages (from tensorboard~=2.6->tensorflow) (3.3.4)\n",
            "Requirement already satisfied: requests<3,>=2.21.0 in /usr/local/lib/python3.7/dist-packages (from tensorboard~=2.6->tensorflow) (2.23.0)\n",
            "Requirement already satisfied: tensorboard-plugin-wit>=1.6.0 in /usr/local/lib/python3.7/dist-packages (from tensorboard~=2.6->tensorflow) (1.8.0)\n",
            "Requirement already satisfied: werkzeug>=0.11.15 in /usr/local/lib/python3.7/dist-packages (from tensorboard~=2.6->tensorflow) (1.0.1)\n",
            "Requirement already satisfied: setuptools>=41.0.0 in /usr/local/lib/python3.7/dist-packages (from tensorboard~=2.6->tensorflow) (57.4.0)\n",
            "Requirement already satisfied: google-auth<2,>=1.6.3 in /usr/local/lib/python3.7/dist-packages (from tensorboard~=2.6->tensorflow) (1.34.0)\n",
            "Requirement already satisfied: tensorboard-data-server<0.7.0,>=0.6.0 in /usr/local/lib/python3.7/dist-packages (from tensorboard~=2.6->tensorflow) (0.6.1)\n",
            "Requirement already satisfied: rsa<5,>=3.1.4 in /usr/local/lib/python3.7/dist-packages (from google-auth<2,>=1.6.3->tensorboard~=2.6->tensorflow) (4.7.2)\n",
            "Requirement already satisfied: pyasn1-modules>=0.2.1 in /usr/local/lib/python3.7/dist-packages (from google-auth<2,>=1.6.3->tensorboard~=2.6->tensorflow) (0.2.8)\n",
            "Requirement already satisfied: cachetools<5.0,>=2.0.0 in /usr/local/lib/python3.7/dist-packages (from google-auth<2,>=1.6.3->tensorboard~=2.6->tensorflow) (4.2.2)\n",
            "Requirement already satisfied: requests-oauthlib>=0.7.0 in /usr/local/lib/python3.7/dist-packages (from google-auth-oauthlib<0.5,>=0.4.1->tensorboard~=2.6->tensorflow) (1.3.0)\n",
            "Requirement already satisfied: importlib-metadata in /usr/local/lib/python3.7/dist-packages (from markdown>=2.6.8->tensorboard~=2.6->tensorflow) (4.6.3)\n",
            "Requirement already satisfied: pyasn1<0.5.0,>=0.4.6 in /usr/local/lib/python3.7/dist-packages (from pyasn1-modules>=0.2.1->google-auth<2,>=1.6.3->tensorboard~=2.6->tensorflow) (0.4.8)\n",
            "Requirement already satisfied: certifi>=2017.4.17 in /usr/local/lib/python3.7/dist-packages (from requests<3,>=2.21.0->tensorboard~=2.6->tensorflow) (2021.5.30)\n",
            "Requirement already satisfied: idna<3,>=2.5 in /usr/local/lib/python3.7/dist-packages (from requests<3,>=2.21.0->tensorboard~=2.6->tensorflow) (2.10)\n",
            "Requirement already satisfied: urllib3!=1.25.0,!=1.25.1,<1.26,>=1.21.1 in /usr/local/lib/python3.7/dist-packages (from requests<3,>=2.21.0->tensorboard~=2.6->tensorflow) (1.24.3)\n",
            "Requirement already satisfied: chardet<4,>=3.0.2 in /usr/local/lib/python3.7/dist-packages (from requests<3,>=2.21.0->tensorboard~=2.6->tensorflow) (3.0.4)\n",
            "Requirement already satisfied: oauthlib>=3.0.0 in /usr/local/lib/python3.7/dist-packages (from requests-oauthlib>=0.7.0->google-auth-oauthlib<0.5,>=0.4.1->tensorboard~=2.6->tensorflow) (3.1.1)\n",
            "Requirement already satisfied: zipp>=0.5 in /usr/local/lib/python3.7/dist-packages (from importlib-metadata->markdown>=2.6.8->tensorboard~=2.6->tensorflow) (3.5.0)\n"
          ],
          "name": "stdout"
        }
      ]
    },
    {
      "cell_type": "code",
      "metadata": {
        "id": "5d4b48d7-aca9-48ba-9e09-791cc109ca63"
      },
      "source": [
        "import numpy as np\n",
        "import pandas as pd\n",
        "\n",
        "from scipy.io import loadmat\n",
        "from scipy.signal import butter, sosfiltfilt\n",
        "\n",
        "from sklearn.preprocessing import MinMaxScaler\n",
        "from sklearn.model_selection import train_test_split\n",
        "from sklearn.metrics import accuracy_score\n",
        "\n",
        "import keras\n",
        "from keras.models import Sequential,Input,Model\n",
        "from keras.layers import Dense, Dropout, Flatten\n",
        "from keras.layers import Conv1D, MaxPooling1D\n",
        "from keras.layers.advanced_activations import LeakyReLU\n",
        "import tensorflow as td\n",
        "\n",
        "import matplotlib.pyplot as plt\n",
        "%matplotlib inline"
      ],
      "id": "5d4b48d7-aca9-48ba-9e09-791cc109ca63",
      "execution_count": 55,
      "outputs": []
    },
    {
      "cell_type": "code",
      "metadata": {
        "colab": {
          "base_uri": "https://localhost:8080/"
        },
        "id": "dca141a1-d10d-4173-a8bf-75607dc887a7",
        "outputId": "25b8d2b9-5183-4b38-8a8c-f366cd338411"
      },
      "source": [
        "eeg = loadmat('/content/drive/MyDrive/Colab Notebooks/datasets/WLDataAll.mat')\n",
        "\n",
        "data = eeg['data']\n",
        "labels = eeg['label']\n",
        "\n",
        "print(data.shape)\n",
        "print(labels.shape)"
      ],
      "id": "dca141a1-d10d-4173-a8bf-75607dc887a7",
      "execution_count": 56,
      "outputs": [
        {
          "output_type": "stream",
          "text": [
            "(62, 512, 360)\n",
            "(1, 360)\n"
          ],
          "name": "stdout"
        }
      ]
    },
    {
      "cell_type": "code",
      "metadata": {
        "id": "hGAx26IbHDk4"
      },
      "source": [
        "def butter_bandpass_filter(data, lowcut = 0.1, highcut = 64, fs = 200, order=5):\n",
        "    nyq = 0.5 * fs\n",
        "    low = lowcut /nyq\n",
        "    high = highcut/nyq\n",
        "    sos = butter(order, [low, high], analog = False, btype='band', output='sos')\n",
        "    filtered_data = sosfiltfilt(sos, data)\n",
        "    return filtered_data"
      ],
      "id": "hGAx26IbHDk4",
      "execution_count": 57,
      "outputs": []
    },
    {
      "cell_type": "code",
      "metadata": {
        "colab": {
          "base_uri": "https://localhost:8080/"
        },
        "id": "PYkIiQqiIsNI",
        "outputId": "04998a9c-c443-4201-f7ca-2fbce12ec823"
      },
      "source": [
        "data = butter_bandpass_filter(data)\n",
        "data.shape"
      ],
      "id": "PYkIiQqiIsNI",
      "execution_count": 58,
      "outputs": [
        {
          "output_type": "execute_result",
          "data": {
            "text/plain": [
              "(62, 512, 360)"
            ]
          },
          "metadata": {
            "tags": []
          },
          "execution_count": 58
        }
      ]
    },
    {
      "cell_type": "code",
      "metadata": {
        "colab": {
          "base_uri": "https://localhost:8080/"
        },
        "id": "J3IcCJ8dqewf",
        "outputId": "fa3b3e2e-27c9-43e7-9266-ee6a4900aac8"
      },
      "source": [
        "idx = np.random.permutation(data.shape[2])\n",
        "data,labels = data[:, :, idx], labels[:, idx]\n",
        "print(data.shape)\n",
        "print(labels.shape)"
      ],
      "id": "J3IcCJ8dqewf",
      "execution_count": 59,
      "outputs": [
        {
          "output_type": "stream",
          "text": [
            "(62, 512, 360)\n",
            "(1, 360)\n"
          ],
          "name": "stdout"
        }
      ]
    },
    {
      "cell_type": "code",
      "metadata": {
        "colab": {
          "base_uri": "https://localhost:8080/"
        },
        "id": "kpW-2h0ohe-n",
        "outputId": "e36d50f8-0a79-4609-db30-e09a424c1249"
      },
      "source": [
        "labels[labels == 1] = 0\n",
        "labels[labels == 2] = 1\n",
        "\n",
        "data = data.transpose(2,0,1)\n",
        "data.shape"
      ],
      "id": "kpW-2h0ohe-n",
      "execution_count": 60,
      "outputs": [
        {
          "output_type": "execute_result",
          "data": {
            "text/plain": [
              "(360, 62, 512)"
            ]
          },
          "metadata": {
            "tags": []
          },
          "execution_count": 60
        }
      ]
    },
    {
      "cell_type": "code",
      "metadata": {
        "id": "vyzOJCWxmYb9"
      },
      "source": [
        "minimumvalue = np.amin(data)\n",
        "data = data+ abs(minimumvalue) + 1"
      ],
      "id": "vyzOJCWxmYb9",
      "execution_count": 61,
      "outputs": []
    },
    {
      "cell_type": "code",
      "metadata": {
        "tags": [],
        "colab": {
          "base_uri": "https://localhost:8080/"
        },
        "id": "642df0b6-112f-4bb9-a23a-6b2d31ca4c1f",
        "outputId": "df36bdc4-a56d-477f-92bb-3558b12f9e0e"
      },
      "source": [
        "X_train = data[:216,:,:]\n",
        "y_train = labels[0,:216]\n",
        "X_valid = data[216:288,:,:]\n",
        "y_valid = labels[0,216:288]\n",
        "X_test = data[288:,:,:]\n",
        "y_test = labels[0,288:]\n",
        "\n",
        "scaler = MinMaxScaler()\n",
        "X_train = scaler.fit_transform(X_train.reshape(-1, X_train.shape[0]).T).T.reshape(X_train.shape)\n",
        "X_valid = scaler.transform(X_valid.reshape(-1, X_valid.shape[0]).T).T.reshape(X_valid.shape)\n",
        "X_test = scaler.transform(X_test.reshape(-1, X_test.shape[0]).T).T.reshape(X_test.shape)\n",
        "\n",
        "print(X_train.shape)\n",
        "print(y_train.shape)\n",
        "print(X_valid.shape)\n",
        "print(y_valid.shape)\n",
        "print(X_test.shape)\n",
        "print(y_test.shape)"
      ],
      "id": "642df0b6-112f-4bb9-a23a-6b2d31ca4c1f",
      "execution_count": 62,
      "outputs": [
        {
          "output_type": "stream",
          "text": [
            "(216, 62, 512)\n",
            "(216,)\n",
            "(72, 62, 512)\n",
            "(72,)\n",
            "(72, 62, 512)\n",
            "(72,)\n"
          ],
          "name": "stdout"
        }
      ]
    },
    {
      "cell_type": "code",
      "metadata": {
        "id": "A4aEoj4E04mt"
      },
      "source": [
        "X_train = X_train.astype('float32')\n",
        "X_valid = X_valid.astype('float32')\n",
        "X_test = X_test.astype('float32')"
      ],
      "id": "A4aEoj4E04mt",
      "execution_count": 63,
      "outputs": []
    },
    {
      "cell_type": "code",
      "metadata": {
        "colab": {
          "base_uri": "https://localhost:8080/"
        },
        "id": "817WX0Lo3V7y",
        "outputId": "49719f91-7811-400c-e105-4ad6d6faec43"
      },
      "source": [
        "print(np.unique(y_train),\n",
        "np.unique(y_valid),\n",
        "np.unique(y_test))"
      ],
      "id": "817WX0Lo3V7y",
      "execution_count": 64,
      "outputs": [
        {
          "output_type": "stream",
          "text": [
            "[0 1] [0 1] [0 1]\n"
          ],
          "name": "stdout"
        }
      ]
    },
    {
      "cell_type": "code",
      "metadata": {
        "id": "cb6a00d3-d9ac-4ff5-a980-13a43663a7ad"
      },
      "source": [
        "batch_size = 64\n",
        "epochs = 10\n",
        "num_classes = 1"
      ],
      "id": "cb6a00d3-d9ac-4ff5-a980-13a43663a7ad",
      "execution_count": 65,
      "outputs": []
    },
    {
      "cell_type": "code",
      "metadata": {
        "id": "268ef938-d49b-45fb-872c-5c4f310d3015",
        "colab": {
          "base_uri": "https://localhost:8080/"
        },
        "outputId": "f3389016-811b-4dc6-f403-bf8000683049"
      },
      "source": [
        "model = Sequential()\n",
        "model.add(Conv1D(32, 3, activation='relu', input_shape=(62,512)))\n",
        "model.add(MaxPooling1D(2))\n",
        "model.add(Dropout(0.25))\n",
        "model.add(Conv1D(64, 3, activation='relu'))\n",
        "model.add(MaxPooling1D(2))\n",
        "model.add(Dropout(0.25))\n",
        "model.add(Conv1D(128, 3, activation='relu'))\n",
        "model.add(MaxPooling1D(2))\n",
        "model.add(Dropout(0.25))\n",
        "model.add(Conv1D(128, (3), activation='relu'))\n",
        "model.add(MaxPooling1D(2))\n",
        "model.add(Dropout(0.4))\n",
        "model.add(Flatten())\n",
        "model.add(Dense(512, activation='relu'))\n",
        "model.add(Dropout(0.3))\n",
        "model.add(Dense(1, activation='sigmoid'))\n",
        "model.summary()"
      ],
      "id": "268ef938-d49b-45fb-872c-5c4f310d3015",
      "execution_count": 66,
      "outputs": [
        {
          "output_type": "stream",
          "text": [
            "Model: \"sequential_2\"\n",
            "_________________________________________________________________\n",
            "Layer (type)                 Output Shape              Param #   \n",
            "=================================================================\n",
            "conv1d_7 (Conv1D)            (None, 60, 32)            49184     \n",
            "_________________________________________________________________\n",
            "max_pooling1d_7 (MaxPooling1 (None, 30, 32)            0         \n",
            "_________________________________________________________________\n",
            "dropout_9 (Dropout)          (None, 30, 32)            0         \n",
            "_________________________________________________________________\n",
            "conv1d_8 (Conv1D)            (None, 28, 64)            6208      \n",
            "_________________________________________________________________\n",
            "max_pooling1d_8 (MaxPooling1 (None, 14, 64)            0         \n",
            "_________________________________________________________________\n",
            "dropout_10 (Dropout)         (None, 14, 64)            0         \n",
            "_________________________________________________________________\n",
            "conv1d_9 (Conv1D)            (None, 12, 128)           24704     \n",
            "_________________________________________________________________\n",
            "max_pooling1d_9 (MaxPooling1 (None, 6, 128)            0         \n",
            "_________________________________________________________________\n",
            "dropout_11 (Dropout)         (None, 6, 128)            0         \n",
            "_________________________________________________________________\n",
            "conv1d_10 (Conv1D)           (None, 4, 128)            49280     \n",
            "_________________________________________________________________\n",
            "max_pooling1d_10 (MaxPooling (None, 2, 128)            0         \n",
            "_________________________________________________________________\n",
            "dropout_12 (Dropout)         (None, 2, 128)            0         \n",
            "_________________________________________________________________\n",
            "flatten_2 (Flatten)          (None, 256)               0         \n",
            "_________________________________________________________________\n",
            "dense_4 (Dense)              (None, 512)               131584    \n",
            "_________________________________________________________________\n",
            "dropout_13 (Dropout)         (None, 512)               0         \n",
            "_________________________________________________________________\n",
            "dense_5 (Dense)              (None, 1)                 513       \n",
            "=================================================================\n",
            "Total params: 261,473\n",
            "Trainable params: 261,473\n",
            "Non-trainable params: 0\n",
            "_________________________________________________________________\n"
          ],
          "name": "stdout"
        }
      ]
    },
    {
      "cell_type": "code",
      "metadata": {
        "id": "fe94baaa-3a53-40e0-9054-4e1c3c10312c"
      },
      "source": [
        "model.compile(loss=keras.losses.binary_crossentropy, optimizer=td.keras.optimizers.Adam(),metrics=['accuracy'])"
      ],
      "id": "fe94baaa-3a53-40e0-9054-4e1c3c10312c",
      "execution_count": 67,
      "outputs": []
    },
    {
      "cell_type": "code",
      "metadata": {
        "colab": {
          "base_uri": "https://localhost:8080/"
        },
        "id": "939c0c38-5285-4fe6-9483-5fca6935420d",
        "outputId": "bdc3a0cc-c60b-4fa3-fd8f-bf2d06a9e13b"
      },
      "source": [
        "model.summary()"
      ],
      "id": "939c0c38-5285-4fe6-9483-5fca6935420d",
      "execution_count": 68,
      "outputs": [
        {
          "output_type": "stream",
          "text": [
            "Model: \"sequential_2\"\n",
            "_________________________________________________________________\n",
            "Layer (type)                 Output Shape              Param #   \n",
            "=================================================================\n",
            "conv1d_7 (Conv1D)            (None, 60, 32)            49184     \n",
            "_________________________________________________________________\n",
            "max_pooling1d_7 (MaxPooling1 (None, 30, 32)            0         \n",
            "_________________________________________________________________\n",
            "dropout_9 (Dropout)          (None, 30, 32)            0         \n",
            "_________________________________________________________________\n",
            "conv1d_8 (Conv1D)            (None, 28, 64)            6208      \n",
            "_________________________________________________________________\n",
            "max_pooling1d_8 (MaxPooling1 (None, 14, 64)            0         \n",
            "_________________________________________________________________\n",
            "dropout_10 (Dropout)         (None, 14, 64)            0         \n",
            "_________________________________________________________________\n",
            "conv1d_9 (Conv1D)            (None, 12, 128)           24704     \n",
            "_________________________________________________________________\n",
            "max_pooling1d_9 (MaxPooling1 (None, 6, 128)            0         \n",
            "_________________________________________________________________\n",
            "dropout_11 (Dropout)         (None, 6, 128)            0         \n",
            "_________________________________________________________________\n",
            "conv1d_10 (Conv1D)           (None, 4, 128)            49280     \n",
            "_________________________________________________________________\n",
            "max_pooling1d_10 (MaxPooling (None, 2, 128)            0         \n",
            "_________________________________________________________________\n",
            "dropout_12 (Dropout)         (None, 2, 128)            0         \n",
            "_________________________________________________________________\n",
            "flatten_2 (Flatten)          (None, 256)               0         \n",
            "_________________________________________________________________\n",
            "dense_4 (Dense)              (None, 512)               131584    \n",
            "_________________________________________________________________\n",
            "dropout_13 (Dropout)         (None, 512)               0         \n",
            "_________________________________________________________________\n",
            "dense_5 (Dense)              (None, 1)                 513       \n",
            "=================================================================\n",
            "Total params: 261,473\n",
            "Trainable params: 261,473\n",
            "Non-trainable params: 0\n",
            "_________________________________________________________________\n"
          ],
          "name": "stdout"
        }
      ]
    },
    {
      "cell_type": "code",
      "metadata": {
        "colab": {
          "base_uri": "https://localhost:8080/"
        },
        "id": "b143568a-53c2-4996-9908-1201259b784f",
        "outputId": "bcb24a93-7fcd-4608-feca-57c4433bb9d9"
      },
      "source": [
        "trained_model = model.fit(X_train, y_train, batch_size=batch_size,epochs=epochs,verbose=1,validation_data=(X_valid, y_valid))"
      ],
      "id": "b143568a-53c2-4996-9908-1201259b784f",
      "execution_count": 69,
      "outputs": [
        {
          "output_type": "stream",
          "text": [
            "Epoch 1/10\n",
            "4/4 [==============================] - 1s 105ms/step - loss: 0.7278 - accuracy: 0.5231 - val_loss: 0.6845 - val_accuracy: 0.5556\n",
            "Epoch 2/10\n",
            "4/4 [==============================] - 0s 24ms/step - loss: 0.7052 - accuracy: 0.4907 - val_loss: 0.6838 - val_accuracy: 0.5417\n",
            "Epoch 3/10\n",
            "4/4 [==============================] - 0s 22ms/step - loss: 0.6922 - accuracy: 0.4769 - val_loss: 0.6825 - val_accuracy: 0.5694\n",
            "Epoch 4/10\n",
            "4/4 [==============================] - 0s 21ms/step - loss: 0.6981 - accuracy: 0.4954 - val_loss: 0.6801 - val_accuracy: 0.6389\n",
            "Epoch 5/10\n",
            "4/4 [==============================] - 0s 21ms/step - loss: 0.6889 - accuracy: 0.5741 - val_loss: 0.6769 - val_accuracy: 0.6389\n",
            "Epoch 6/10\n",
            "4/4 [==============================] - 0s 24ms/step - loss: 0.6911 - accuracy: 0.5370 - val_loss: 0.6730 - val_accuracy: 0.5556\n",
            "Epoch 7/10\n",
            "4/4 [==============================] - 0s 21ms/step - loss: 0.6927 - accuracy: 0.5231 - val_loss: 0.6678 - val_accuracy: 0.5972\n",
            "Epoch 8/10\n",
            "4/4 [==============================] - 0s 21ms/step - loss: 0.6854 - accuracy: 0.5231 - val_loss: 0.6574 - val_accuracy: 0.5972\n",
            "Epoch 9/10\n",
            "4/4 [==============================] - 0s 22ms/step - loss: 0.6874 - accuracy: 0.5509 - val_loss: 0.6505 - val_accuracy: 0.6250\n",
            "Epoch 10/10\n",
            "4/4 [==============================] - 0s 20ms/step - loss: 0.6813 - accuracy: 0.6019 - val_loss: 0.6489 - val_accuracy: 0.6667\n"
          ],
          "name": "stdout"
        }
      ]
    },
    {
      "cell_type": "code",
      "metadata": {
        "id": "e83b7263-dcbf-4779-add5-715638256ee9"
      },
      "source": [
        "test_eval = model.evaluate(X_test, y_test, verbose=0)"
      ],
      "id": "e83b7263-dcbf-4779-add5-715638256ee9",
      "execution_count": 70,
      "outputs": []
    },
    {
      "cell_type": "code",
      "metadata": {
        "id": "20b83fd1-2c89-4dc5-8ead-dc37344f7721",
        "colab": {
          "base_uri": "https://localhost:8080/"
        },
        "outputId": "1806045a-1dff-4971-b37f-de905b45f1b9"
      },
      "source": [
        "print('Test loss:', test_eval[0])\n",
        "print('Test accuracy:', test_eval[1])"
      ],
      "id": "20b83fd1-2c89-4dc5-8ead-dc37344f7721",
      "execution_count": 71,
      "outputs": [
        {
          "output_type": "stream",
          "text": [
            "Test loss: 0.6751568913459778\n",
            "Test accuracy: 0.5277777910232544\n"
          ],
          "name": "stdout"
        }
      ]
    },
    {
      "cell_type": "code",
      "metadata": {
        "colab": {
          "base_uri": "https://localhost:8080/"
        },
        "id": "TBndfoenrJif",
        "outputId": "f2353664-76b0-41c0-f166-7d1918cfdf6f"
      },
      "source": [
        "trained_model.history"
      ],
      "id": "TBndfoenrJif",
      "execution_count": 72,
      "outputs": [
        {
          "output_type": "execute_result",
          "data": {
            "text/plain": [
              "{'accuracy': [0.5231481194496155,\n",
              "  0.49074074625968933,\n",
              "  0.47685185074806213,\n",
              "  0.49537035822868347,\n",
              "  0.5740740895271301,\n",
              "  0.5370370149612427,\n",
              "  0.5231481194496155,\n",
              "  0.5231481194496155,\n",
              "  0.5509259104728699,\n",
              "  0.6018518805503845],\n",
              " 'loss': [0.727843165397644,\n",
              "  0.7052430510520935,\n",
              "  0.6922377347946167,\n",
              "  0.698080837726593,\n",
              "  0.688901960849762,\n",
              "  0.6911043524742126,\n",
              "  0.6926628351211548,\n",
              "  0.6854235529899597,\n",
              "  0.6873835921287537,\n",
              "  0.6812854409217834],\n",
              " 'val_accuracy': [0.5555555820465088,\n",
              "  0.5416666865348816,\n",
              "  0.5694444179534912,\n",
              "  0.6388888955116272,\n",
              "  0.6388888955116272,\n",
              "  0.5555555820465088,\n",
              "  0.5972222089767456,\n",
              "  0.5972222089767456,\n",
              "  0.625,\n",
              "  0.6666666865348816],\n",
              " 'val_loss': [0.6845247745513916,\n",
              "  0.6837589740753174,\n",
              "  0.6825400590896606,\n",
              "  0.6801180243492126,\n",
              "  0.6769415736198425,\n",
              "  0.6730165481567383,\n",
              "  0.6677569150924683,\n",
              "  0.6573585867881775,\n",
              "  0.6504520177841187,\n",
              "  0.6489463448524475]}"
            ]
          },
          "metadata": {
            "tags": []
          },
          "execution_count": 72
        }
      ]
    },
    {
      "cell_type": "code",
      "metadata": {
        "colab": {
          "base_uri": "https://localhost:8080/",
          "height": 545
        },
        "id": "hGvDL41Kqxs9",
        "outputId": "1d103c4f-1281-4998-c2fe-1d47d09c0a0d"
      },
      "source": [
        "accuracy = trained_model.history['accuracy']\n",
        "val_accuracy = trained_model.history['val_accuracy']\n",
        "loss = trained_model.history['loss']\n",
        "val_loss = trained_model.history['val_loss']\n",
        "epochs = range(len(accuracy))\n",
        "plt.plot(epochs, accuracy, 'bo', label='Training accuracy')\n",
        "plt.plot(epochs, val_accuracy, 'b', label='Validation accuracy')\n",
        "plt.title('Training and validation accuracy')\n",
        "plt.legend()\n",
        "plt.figure()\n",
        "plt.plot(epochs, loss, 'bo', label='Training loss')\n",
        "plt.plot(epochs, val_loss, 'b', label='Validation loss')\n",
        "plt.title('Training and validation loss')\n",
        "plt.legend()\n",
        "plt.show()"
      ],
      "id": "hGvDL41Kqxs9",
      "execution_count": 73,
      "outputs": [
        {
          "output_type": "display_data",
          "data": {
            "image/png": "[encoded data removed]",
            "text/plain": [
              "<Figure size 432x288 with 1 Axes>"
            ]
          },
          "metadata": {
            "tags": [],
            "needs_background": "light"
          }
        },
        {
          "output_type": "display_data",
          "data": {
            "image/png": "[encoded data removed]",
            "text/plain": [
              "<Figure size 432x288 with 1 Axes>"
            ]
          },
          "metadata": {
            "tags": [],
            "needs_background": "light"
          }
        }
      ]
    },
    {
      "cell_type": "code",
      "metadata": {
        "id": "XIMGuaX-xNED"
      },
      "source": [
        ""
      ],
      "id": "XIMGuaX-xNED",
      "execution_count": 76,
      "outputs": []
    }
  ]
}